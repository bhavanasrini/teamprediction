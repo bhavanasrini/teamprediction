{
 "cells": [
  {
   "cell_type": "code",
   "execution_count": 147,
   "metadata": {},
   "outputs": [],
   "source": [
    "from nltk.sentiment.vader import SentimentIntensityAnalyzer\n",
    "import os\n",
    "import re\n",
    "def process(filename1,filename2):\n",
    "    #out = open(\"/Users/vijaybhavana/Desktop/DS_Project/Processed/Denverbroncos_9thweek_12_Nov.csv\",\"w\")\n",
    "    out = open(filename1,\"w\")\n",
    "    #f = open(\"/Users/vijaybhavana/Desktop/DS_Project/Denverbroncos_9thweek_12_Nov.csv\",\"r\")\n",
    "    f = open(filename2,\"r\")\n",
    "    for line in f:\n",
    "        values = line.split(\";\")\n",
    "        text = values[4]\n",
    "        retweets = values[2]\n",
    "        fav = values[3]\n",
    "        newline = text+\";\"+retweets+\";\"+fav+os.linesep\n",
    "        out.write(newline)"
   ]
  },
  {
   "cell_type": "code",
   "execution_count": 148,
   "metadata": {
    "scrolled": true
   },
   "outputs": [],
   "source": [
    "def sentimentAnalysis(file1,file2):\n",
    "    sentences = []\n",
    "    tweets = []\n",
    "    #out = open(\"/Users/vijaybhavana/Desktop/DS_Project/TrainData/DenverBroncos_9th.csv\",\"w\")\n",
    "    out = open(file1,\"w\")\n",
    "    #f = open(\"/Users/vijaybhavana/Desktop/DS_Project/Processed/Denverbroncos_9thweek_12_Nov.csv\",\"r\",encoding=\"ISO-8859-1\")\n",
    "    f = open(file2,\"r\",encoding = \"ISO-8859-1\" )\n",
    "    for line in f:\n",
    "        #print(line)\n",
    "        if(len(line.strip())>0):\n",
    "            #print(line)\n",
    "            text = ' '.join(re.sub(\"([^@#0-9A-Za-z\\t])|(\\w+:\\/\\/\\S+),\",\" \",line.split(\";\")[0]).split())\n",
    "            sentences.append(text)\n",
    "            #print('-----',text)\n",
    "            tweets.append(line.split(\";\")[1].strip()+\";\"+re.sub('[,\\'\\\"]','',line.split(\";\")[2].strip()))\n",
    "    sid = SentimentIntensityAnalyzer()\n",
    "    #print(len(tweets),len(sentences))\n",
    "    for i in range(len(sentences)):\n",
    "        sentence = sentences[i]\n",
    "        ss = sid.polarity_scores(sentence)\n",
    "        tweet = \";\" +str(ss['compound'])\n",
    "        tweets[i] = tweets[i] + tweet + os.linesep\n",
    "    for tweet in tweets:\n",
    "        #print(tweet)    \n",
    "        out.write(tweet)\n",
    "    out.close()"
   ]
  },
  {
   "cell_type": "code",
   "execution_count": 149,
   "metadata": {},
   "outputs": [],
   "source": [
    "import pickle\n",
    "def pickleData(file1,file2):\n",
    "    #with open(\"/Users/vijaybhavana/Desktop/DS_Project/Data_pickle/DB_9thweek.pkl\",\"wb\") as f:\n",
    "    with open(file1,\"wb\") as f:\n",
    "        #inp = open(\"/Users/vijaybhavana/Desktop/DS_Project/TrainData/DenverBroncos_9th.csv\",\"r\")\n",
    "        inp = open(file2,\"r\")\n",
    "        next(inp)\n",
    "        result = []\n",
    "        values = []\n",
    "        for line in inp:\n",
    "            value = []\n",
    "            value.append(line.split(';')[0])\n",
    "            value.append(line.split(';')[1])\n",
    "            value.append(line.split(';')[2].strip('\\n'))\n",
    "            values.append((value))\n",
    "        result.append(values[:15])\n",
    "        result.append(0)\n",
    "        pickle.dump(result,f)"
   ]
  },
  {
   "cell_type": "code",
   "execution_count": 150,
   "metadata": {
    "collapsed": true
   },
   "outputs": [],
   "source": [
    "def main():\n",
    "    process(\"/Users/vijaybhavana/Desktop/KC_games/Processed/KC_9thWeek_05_Nov.csv\",\"/Users/vijaybhavana/Desktop/KC_games/KC_9thWeek_05_Nov.csv\") \n",
    "    sentimentAnalysis(\"/Users/vijaybhavana/Desktop/KC_games/Traindata/KC_9thWeek.csv\",\"/Users/vijaybhavana/Desktop/KC_games/Processed/KC_9thWeek_05_Nov.csv\")\n",
    "    pickleData(\"/Users/vijaybhavana/Desktop/KC_games/Data_pickle/KC_9thWeek.pkl\",\"/Users/vijaybhavana/Desktop/KC_games/Traindata/KC_9thWeek.csv\")\n",
    "if __name__ == \"__main__\":\n",
    "    main()"
   ]
  },
  {
   "cell_type": "code",
   "execution_count": null,
   "metadata": {
    "collapsed": true
   },
   "outputs": [],
   "source": []
  },
  {
   "cell_type": "code",
   "execution_count": null,
   "metadata": {
    "collapsed": true
   },
   "outputs": [],
   "source": []
  }
 ],
 "metadata": {
  "kernelspec": {
   "display_name": "Python 3",
   "language": "python",
   "name": "python3"
  },
  "language_info": {
   "codemirror_mode": {
    "name": "ipython",
    "version": 3
   },
   "file_extension": ".py",
   "mimetype": "text/x-python",
   "name": "python",
   "nbconvert_exporter": "python",
   "pygments_lexer": "ipython3",
   "version": "3.6.1"
  }
 },
 "nbformat": 4,
 "nbformat_minor": 2
}
